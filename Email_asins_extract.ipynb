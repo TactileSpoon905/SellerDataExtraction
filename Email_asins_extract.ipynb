{
 "cells": [
  {
   "cell_type": "markdown",
   "metadata": {},
   "source": [
    "Start by reading the data file"
   ]
  },
  {
   "cell_type": "code",
   "execution_count": null,
   "metadata": {},
   "outputs": [],
   "source": [
    "# Make sure file type is correctly inserted in the input argument\n",
    "# Can also use a CSV file but dataset must be in directory\n",
    "\n",
    "import numpy as np\n",
    "import pandas as pd\n",
    "import re\n",
    "df = pd.read_excel('ASINs.xls')"
   ]
  },
  {
   "cell_type": "markdown",
   "metadata": {},
   "source": [
    "Run the cell below to view ASINS that start with B0/X0"
   ]
  },
  {
   "cell_type": "code",
   "execution_count": null,
   "metadata": {},
   "outputs": [],
   "source": [
    "# Eliminate duplicates to reduce redundancy\n",
    "\n",
    "p = df.A.str.extractall('([XB]0.......[0-9|a-zA-Z])')\n",
    "tab1 = pd.DataFrame(p)\n",
    "pd.set_option('display.max_rows', None)\n",
    "\n",
    "tab1.dropna(axis=0);\n",
    "tab1 = tab1.drop_duplicates()\n",
    "print(tab1.to_string(index = False))"
   ]
  },
  {
   "cell_type": "markdown",
   "metadata": {},
   "source": [
    "Run the cell below to check for ASINS which comprise of numbers only"
   ]
  },
  {
   "cell_type": "code",
   "execution_count": null,
   "metadata": {},
   "outputs": [],
   "source": [
    "# Eliminate duplicates to reduce redundancy and output\n",
    "\n",
    "q = df.A.str.extractall('([0-9].........)')\n",
    "tab2 = pd.DataFrame(q)\n",
    "pd.set_option('display.max_rows', None)\n",
    "\n",
    "tab2.dropna(axis=0);\n",
    "tab2 = tab2.drop_duplicates()\n",
    "final = tab2.to_string(index = False)\n",
    "\n",
    "pattern = re.compile(r'[0-9][0-9][0-9][0-9][0-9][0-9][0-9][0-9][0-9][0-9]')\n",
    "matches = pattern.findall(final)\n",
    "\n",
    "for match in matches:\n",
    "    print(match)"
   ]
  }
 ],
 "metadata": {
  "kernelspec": {
   "display_name": "Python 3",
   "language": "python",
   "name": "python3"
  },
  "language_info": {
   "codemirror_mode": {
    "name": "ipython",
    "version": 3
   },
   "file_extension": ".py",
   "mimetype": "text/x-python",
   "name": "python",
   "nbconvert_exporter": "python",
   "pygments_lexer": "ipython3",
   "version": "3.7.4"
  }
 },
 "nbformat": 4,
 "nbformat_minor": 4
}
