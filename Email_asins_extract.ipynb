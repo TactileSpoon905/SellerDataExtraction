{
 "cells": [
  {
   "cell_type": "markdown",
   "metadata": {},
   "source": [
    "Start by reading the data file"
   ]
  },
  {
   "cell_type": "code",
   "execution_count": 7,
   "metadata": {},
   "outputs": [],
   "source": [
    "# Make sure file type is correctly inserted in the input argument\n",
    "# Can also use a CSV file but dataset must be in directory\n",
    "\n",
    "import pandas as pd\n",
    "df = pd.read_excel('Description_text.xls')"
   ]
  },
  {
   "cell_type": "markdown",
   "metadata": {},
   "source": [
    "Run the cell below to start the filter process"
   ]
  },
  {
   "cell_type": "code",
   "execution_count": 8,
   "metadata": {},
   "outputs": [],
   "source": [
    "# This cell checks for strings that start with B0/X0 which are\n",
    "# 10 characters long. Uses different pandas dot operators\n",
    "# Eliminates duplicates to reduce redundancy and output\n",
    "\n",
    "p = df.Description.str.extractall('(B0........)')\n",
    "tab1 = pd.DataFrame(p)\n",
    "tab1.drop_duplicates()\n",
    "pd.set_option('display.max_rows', None)\n",
    "\n",
    "q = df.Description.str.extractall('(X0........)')\n",
    "tab2 = pd.DataFrame(q)\n",
    "tab2.drop_duplicates()\n",
    "pd.set_option('display.max_rows', None)"
   ]
  },
  {
   "cell_type": "markdown",
   "metadata": {},
   "source": [
    "Run the cell below to check for ASINS starting with B0"
   ]
  },
  {
   "cell_type": "code",
   "execution_count": 9,
   "metadata": {},
   "outputs": [
    {
     "name": "stdout",
     "output_type": "stream",
     "text": [
      "          0\n",
      " B08P5XBY1M\n",
      " B09187NPFT\n",
      " B08P5X9HHP\n",
      " B08P39BTGH\n",
      " B08JZDZ83S\n",
      " B08JZC3QM8\n",
      " B08JZFDZK2\n",
      " B091YNW4QM\n",
      " B095HG6GT1\n",
      " B096Z7C1QJ\n",
      " B096Z33JRM\n",
      " B094JFVWSH\n",
      " B095C2DKZR\n",
      " B095BMJDL1\n",
      " B095C3NGMP\n",
      " B017UNJKAK\n",
      " B017UNJLVI\n",
      " B017UNJN6G\n",
      " B017UNJOEM\n",
      " B07JR82NPS\n",
      " B017UNJQTU\n",
      " B017UNJSAM\n",
      " B016OSTTXU\n",
      " B016OSTUS4\n",
      " B016OSTVJC\n",
      " B016OSTW64\n",
      " B016OSTX2M\n",
      " B016OSTXXG\n",
      " B016OSTYPI\n",
      " B07S8PPPJS\n",
      " B07S6NP28Q\n",
      " B07S6NNRJB\n",
      " B07S6NNLSL\n",
      " B07SCZYT6B\n",
      " B07S7QQCNN\n",
      " B07S8PP33L\n",
      " B01GQ9TD2E\n",
      " B01GQ9TF40\n",
      " B01GQ9TH6Q\n",
      " B01GQ9TIYM\n",
      " B01GQ9TKV8\n",
      " B01GQ9TMLQ\n",
      " B01GQ9TOB4\n",
      " B0147W2NF6\n",
      " B0147W2OW8\n",
      " B0147W2QLW\n",
      " B0147W2S6U\n",
      " B0147W2TI2\n",
      " B0147W2VKS\n",
      " B0147W2XD8\n",
      " B014LV3B3G\n",
      " B014LV3C7G\n",
      " B014LV3DD4\n",
      " B014LV3EK6\n",
      " B014LV3G6S\n",
      " B014LV3HL2\n",
      " B014LV3IY8\n",
      " B07F6PJRCY\n",
      " B095NY14RB\n",
      " B097QW6GL2\n",
      " B097R2LTZP\n",
      " B098B832VP\n",
      " B09BCMD6QK\n",
      " B09BB5VX4N\n",
      " B09B13VZ3Y\n",
      " B09B15L4QW\n",
      " B08JQ5Z7SV\n",
      " B08JQ6WWD3\n",
      " B01LY81F8A\n",
      " B01N699KHJ\n",
      " B07B92Z24P\n",
      " B091HPQQTR\n",
      " B095P86LCS\n",
      " B099NHXDY6\n"
     ]
    }
   ],
   "source": [
    "# Return data which is eacy to copy (cntrl+C)\n",
    "\n",
    "tab1.dropna(axis=0);\n",
    "result1 = tab1.to_string(index = False)\n",
    "print(result1)"
   ]
  },
  {
   "cell_type": "markdown",
   "metadata": {},
   "source": [
    "Run the cell below to check for ASINS starting with X0"
   ]
  },
  {
   "cell_type": "code",
   "execution_count": 10,
   "metadata": {},
   "outputs": [
    {
     "name": "stdout",
     "output_type": "stream",
     "text": [
      "Empty DataFrame\n",
      "Columns: [0]\n",
      "Index: []\n"
     ]
    }
   ],
   "source": [
    "# Similar to previous cell\n",
    "\n",
    "tab2.dropna(axis=0);\n",
    "result2 = tab2.to_string(index = False)\n",
    "print(result2)"
   ]
  }
 ],
 "metadata": {
  "kernelspec": {
   "display_name": "Python 3",
   "language": "python",
   "name": "python3"
  },
  "language_info": {
   "codemirror_mode": {
    "name": "ipython",
    "version": 3
   },
   "file_extension": ".py",
   "mimetype": "text/x-python",
   "name": "python",
   "nbconvert_exporter": "python",
   "pygments_lexer": "ipython3",
   "version": "3.7.4"
  }
 },
 "nbformat": 4,
 "nbformat_minor": 4
}
