{
 "cells": [
  {
   "cell_type": "markdown",
   "metadata": {},
   "source": [
    "Start by reading the data file"
   ]
  },
  {
   "cell_type": "code",
   "execution_count": null,
   "metadata": {},
   "outputs": [],
   "source": [
    "# Make sure file type is correctly inserted in the input argument\n",
    "# Can also use a CSV file but dataset must be in directory\n",
    "\n",
    "import pandas as pd\n",
    "df = pd.read_excel('Description_text.xls')"
   ]
  },
  {
   "cell_type": "markdown",
   "metadata": {},
   "source": [
    "Run the cell below to start the filter process"
   ]
  },
  {
   "cell_type": "code",
   "execution_count": null,
   "metadata": {},
   "outputs": [],
   "source": [
    "# This cell checks for strings that start with B0/X0 which are\n",
    "# 10 characters long. Uses different pandas dot operators\n",
    "\n",
    "p = df.Description.str.extractall('(B0........)')\n",
    "tab1 = pd.DataFrame(p)\n",
    "pd.set_option('display.max_rows', None)\n",
    "\n",
    "q = df.Description.str.extractall('(X0........)')\n",
    "tab2 = pd.DataFrame(q)\n",
    "pd.set_option('display.max_rows', None)"
   ]
  },
  {
   "cell_type": "markdown",
   "metadata": {},
   "source": [
    "Run the cell below to check for ASINS starting with B0"
   ]
  },
  {
   "cell_type": "code",
   "execution_count": null,
   "metadata": {},
   "outputs": [],
   "source": [
    "# Eliminate duplicates to reduce redundancy and output\n",
    "# data which is eacy to copy (cntrl+C)\n",
    "\n",
    "tab1.dropna(axis=0);\n",
    "result1 = tab1.to_string(index = False)\n",
    "print(result1)"
   ]
  },
  {
   "cell_type": "markdown",
   "metadata": {},
   "source": [
    "Run the cell below to check for ASINS starting with X0"
   ]
  },
  {
   "cell_type": "code",
   "execution_count": null,
   "metadata": {},
   "outputs": [],
   "source": [
    "# Similar to previous cell\n",
    "\n",
    "tab2.dropna(axis=0);\n",
    "result2 = tab2.to_string(index = False)\n",
    "print(result2)"
   ]
  }
 ],
 "metadata": {
  "kernelspec": {
   "display_name": "Python 3",
   "language": "python",
   "name": "python3"
  },
  "language_info": {
   "codemirror_mode": {
    "name": "ipython",
    "version": 3
   },
   "file_extension": ".py",
   "mimetype": "text/x-python",
   "name": "python",
   "nbconvert_exporter": "python",
   "pygments_lexer": "ipython3",
   "version": "3.7.4"
  }
 },
 "nbformat": 4,
 "nbformat_minor": 4
}
