{
 "cells": [
  {
   "cell_type": "markdown",
   "metadata": {},
   "source": [
    "### **<u>Script to check for ASINS and Merchant tokens</u>**"
   ]
  },
  {
   "cell_type": "markdown",
   "metadata": {},
   "source": [
    "**<u>STEP 1</u>**: Upload the excel or csv file in the **df** variable and run the cell *(file must be in directory)*"
   ]
  },
  {
   "cell_type": "code",
   "execution_count": null,
   "metadata": {},
   "outputs": [],
   "source": [
    "import pandas as pd\n",
    "df = pd.read_excel('Description_text.xls')"
   ]
  },
  {
   "cell_type": "markdown",
   "metadata": {},
   "source": [
    "**<u>STEP 2</u>**: Run the cell below to start the filter process"
   ]
  },
  {
   "cell_type": "code",
   "execution_count": null,
   "metadata": {},
   "outputs": [],
   "source": [
    "p = df.Description.str.extractall('(B0........)')\n",
    "tab1 = pd.DataFrame(p)\n",
    "pd.set_option('display.max_rows', None)\n",
    "\n",
    "# Check for ASINS starting with X0\n",
    "\n",
    "q = df.Description.str.extractall('(X0........)')\n",
    "tab2 = pd.DataFrame(q)\n",
    "pd.set_option('display.max_rows', None)"
   ]
  },
  {
   "cell_type": "markdown",
   "metadata": {},
   "source": [
    "**<u>STEP 3</u>**: Run the cell below to check for **ASINS starting with B0**"
   ]
  },
  {
   "cell_type": "code",
   "execution_count": null,
   "metadata": {},
   "outputs": [],
   "source": [
    "tab1.dropna(axis=0);\n",
    "result1 = tab1.to_string(index = False)\n",
    "print(result1)"
   ]
  },
  {
   "cell_type": "markdown",
   "metadata": {},
   "source": [
    "**<u>STEP 4</u>**: Run the cell below to check for **ASINS starting with X0**"
   ]
  },
  {
   "cell_type": "code",
   "execution_count": null,
   "metadata": {},
   "outputs": [],
   "source": [
    "tab2.dropna(axis=0);\n",
    "result2 = tab2.to_string(index = False)\n",
    "print(result2)"
   ]
  }
 ],
 "metadata": {
  "kernelspec": {
   "display_name": "Python 3",
   "language": "python",
   "name": "python3"
  },
  "language_info": {
   "codemirror_mode": {
    "name": "ipython",
    "version": 3
   },
   "file_extension": ".py",
   "mimetype": "text/x-python",
   "name": "python",
   "nbconvert_exporter": "python",
   "pygments_lexer": "ipython3",
   "version": "3.7.4"
  }
 },
 "nbformat": 4,
 "nbformat_minor": 4
}
