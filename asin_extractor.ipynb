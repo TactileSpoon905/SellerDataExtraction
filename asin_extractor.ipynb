{
 "cells": [
  {
   "cell_type": "markdown",
   "metadata": {},
   "source": [
    "#### _Run the cell below to import libraries and run function for string pattern search logic_"
   ]
  },
  {
   "cell_type": "code",
   "execution_count": null,
   "metadata": {},
   "outputs": [],
   "source": [
    "import numpy as np\n",
    "import pandas as pd\n",
    "import re\n",
    "\n",
    "def asins_xb(file_name):\n",
    "    df = pd.read_excel(file_name)\n",
    "    test = df.iloc[:,0].str.extractall('([XB]0.......[0-9a-zA-Z])').dropna(axis=0).drop_duplicates()\n",
    "    test.to_clipboard(index = False)\n",
    "    print(test.to_string(index = False))\n",
    "    \n",
    "def asins_10dig(file_name):\n",
    "    df = pd.read_excel(file_name)\n",
    "    test = df.iloc[:,0].str.extractall('([0-9]{10})').dropna(axis=0).drop_duplicates()\n",
    "    print(test.to_string(index = False))\n",
    "    \n",
    "def merchant_id(file_name):\n",
    "    df = pd.read_excel(file_name)\n",
    "    test = df.iloc[:,0].str.extractall('(A[0-9A-Z]{10,17})').dropna(axis=0).drop_duplicates()\n",
    "    print(test.to_string(index=False))"
   ]
  },
  {
   "cell_type": "markdown",
   "metadata": {},
   "source": [
    "#### _Run the cell below for retrieving ASINS starting with X or B_"
   ]
  },
  {
   "cell_type": "code",
   "execution_count": null,
   "metadata": {},
   "outputs": [],
   "source": [
    "asins_xb('ASINs.xls')"
   ]
  },
  {
   "cell_type": "markdown",
   "metadata": {},
   "source": [
    "#### _Run the cell below for retrieving 10 digit number_"
   ]
  },
  {
   "cell_type": "code",
   "execution_count": null,
   "metadata": {},
   "outputs": [],
   "source": [
    "asins_10dig('ASINs.xls')"
   ]
  },
  {
   "cell_type": "markdown",
   "metadata": {},
   "source": [
    "#### _Run the cell below for retrieving merchant token IDs_"
   ]
  },
  {
   "cell_type": "code",
   "execution_count": null,
   "metadata": {},
   "outputs": [],
   "source": [
    "merchant_id('ASINs.xls')"
   ]
  }
 ],
 "metadata": {
  "kernelspec": {
   "display_name": "Python 3",
   "language": "python",
   "name": "python3"
  },
  "language_info": {
   "codemirror_mode": {
    "name": "ipython",
    "version": 3
   },
   "file_extension": ".py",
   "mimetype": "text/x-python",
   "name": "python",
   "nbconvert_exporter": "python",
   "pygments_lexer": "ipython3",
   "version": "3.7.4"
  }
 },
 "nbformat": 4,
 "nbformat_minor": 4
}
